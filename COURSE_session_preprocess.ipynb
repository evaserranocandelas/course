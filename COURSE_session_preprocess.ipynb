{
 "cells": [
  {
   "cell_type": "markdown",
   "id": "confirmed-command",
   "metadata": {},
   "source": [
    "We are going to use rdkit to clean a dataframe that contain non-allowed molecules."
   ]
  },
  {
   "cell_type": "markdown",
   "id": "under-injury",
   "metadata": {},
   "source": [
    "First of all, we will \"play\" with rdkit in order to learn how to manage molecules"
   ]
  },
  {
   "cell_type": "code",
   "execution_count": 1,
   "id": "assured-struggle",
   "metadata": {},
   "outputs": [],
   "source": [
    "# PART 1 .- MOLECULES SANITIZATION"
   ]
  },
  {
   "cell_type": "markdown",
   "id": "recovered-reggae",
   "metadata": {},
   "source": [
    "We first have to verify if our input molecules in SMILES format are correct. This step is sometimes called \"sanitization\". "
   ]
  },
  {
   "cell_type": "markdown",
   "id": "olive-publisher",
   "metadata": {},
   "source": [
    "For instance, we can check if the SMILES 'C(Cl)CCC=O' represents a correct molecule. We will convert to mol object and re-convert to smiles. This two steps (From Smiles to Mol and from Mol to Smiles) have different arguments that can be useful depending on our interests (http://rdkit.org/docs/source/rdkit.Chem.rdmolfiles.html) "
   ]
  },
  {
   "cell_type": "code",
   "execution_count": 2,
   "id": "english-killer",
   "metadata": {},
   "outputs": [
    {
     "name": "stdout",
     "output_type": "stream",
     "text": [
      "SMILES C(Cl)CCC=O is correct and has been sanitized to O=CCCCCl\n"
     ]
    }
   ],
   "source": [
    "from rdkit import Chem\n",
    "\n",
    "# declare our molecules in SMILES format\n",
    "smi = 'C(Cl)CCC=O'\n",
    "\n",
    "# instantiate \"mol\" object\n",
    "mol = Chem.MolFromSmiles(smi)\n",
    "\n",
    "# re-obtain the SMILES\n",
    "smi_sanitized = Chem.MolToSmiles(mol)\n",
    "\n",
    "print('SMILES {} is correct and has been sanitized to {}'.format(smi, smi_sanitized))"
   ]
  },
  {
   "cell_type": "markdown",
   "id": "identical-holmes",
   "metadata": {},
   "source": [
    "If the mol object can not be instantiated, we will not be able to return any sanitized smiles. If you run the next cell, it will raise an error. "
   ]
  },
  {
   "cell_type": "code",
   "execution_count": 3,
   "id": "scheduled-seattle",
   "metadata": {},
   "outputs": [
    {
     "ename": "ArgumentError",
     "evalue": "Python argument types in\n    rdkit.Chem.rdmolfiles.MolToSmiles(NoneType)\ndid not match C++ signature:\n    MolToSmiles(class RDKit::ROMol mol, bool isomericSmiles=True, bool kekuleSmiles=False, int rootedAtAtom=-1, bool canonical=True, bool allBondsExplicit=False, bool allHsExplicit=False, bool doRandom=False)",
     "output_type": "error",
     "traceback": [
      "\u001b[1;31m---------------------------------------------------------------------------\u001b[0m",
      "\u001b[1;31mArgumentError\u001b[0m                             Traceback (most recent call last)",
      "\u001b[1;32m<ipython-input-3-a88d21f4e714>\u001b[0m in \u001b[0;36m<module>\u001b[1;34m\u001b[0m\n\u001b[0;32m      5\u001b[0m \u001b[0mmol2\u001b[0m \u001b[1;33m=\u001b[0m \u001b[0mChem\u001b[0m\u001b[1;33m.\u001b[0m\u001b[0mMolFromSmiles\u001b[0m\u001b[1;33m(\u001b[0m\u001b[0msmi2\u001b[0m\u001b[1;33m)\u001b[0m\u001b[1;33m\u001b[0m\u001b[1;33m\u001b[0m\u001b[0m\n\u001b[0;32m      6\u001b[0m \u001b[1;33m\u001b[0m\u001b[0m\n\u001b[1;32m----> 7\u001b[1;33m \u001b[0msmi2_sanitized\u001b[0m \u001b[1;33m=\u001b[0m \u001b[0mChem\u001b[0m\u001b[1;33m.\u001b[0m\u001b[0mMolToSmiles\u001b[0m\u001b[1;33m(\u001b[0m\u001b[0mmol2\u001b[0m\u001b[1;33m)\u001b[0m\u001b[1;33m\u001b[0m\u001b[1;33m\u001b[0m\u001b[0m\n\u001b[0m",
      "\u001b[1;31mArgumentError\u001b[0m: Python argument types in\n    rdkit.Chem.rdmolfiles.MolToSmiles(NoneType)\ndid not match C++ signature:\n    MolToSmiles(class RDKit::ROMol mol, bool isomericSmiles=True, bool kekuleSmiles=False, int rootedAtAtom=-1, bool canonical=True, bool allBondsExplicit=False, bool allHsExplicit=False, bool doRandom=False)"
     ]
    }
   ],
   "source": [
    "# declare our molecules in SMILES format\n",
    "smi2 = 'CClCCC=OF'\n",
    "\n",
    "# instantiate \"mol\" object\n",
    "mol2 = Chem.MolFromSmiles(smi2)\n",
    "\n",
    "smi2_sanitized = Chem.MolToSmiles(mol2)"
   ]
  },
  {
   "cell_type": "markdown",
   "id": "sexual-sweet",
   "metadata": {},
   "source": [
    "We can add a try/except expression in order to bypass the error and return \"None\" instead"
   ]
  },
  {
   "cell_type": "code",
   "execution_count": 4,
   "id": "harmful-legislature",
   "metadata": {},
   "outputs": [
    {
     "name": "stdout",
     "output_type": "stream",
     "text": [
      "None\n"
     ]
    }
   ],
   "source": [
    "# declare our molecules in SMILES format\n",
    "smi2 = 'CClCCC=OF'\n",
    "\n",
    "\n",
    "# instantiate \"mol\" object\n",
    "mol2 = Chem.MolFromSmiles(smi2)\n",
    "try:\n",
    "    sanitized_smi2 = Chem.MolToSmiles(Chem.MolFromSmiles(smi2))\n",
    "except:\n",
    "    sanitized_smi2 = None\n",
    "print(sanitized_smi2)"
   ]
  },
  {
   "cell_type": "markdown",
   "id": "mighty-problem",
   "metadata": {},
   "source": [
    "## TASK 1 PART 1 .- Use rdkit to exclude incorrect molecules from a dataframe"
   ]
  },
  {
   "cell_type": "markdown",
   "id": "reduced-concert",
   "metadata": {},
   "source": [
    "Imagine that you have a pandas dataframe like the following"
   ]
  },
  {
   "cell_type": "code",
   "execution_count": 23,
   "id": "million-tamil",
   "metadata": {},
   "outputs": [
    {
     "name": "stdout",
     "output_type": "stream",
     "text": [
      "                SMILES     y\n",
      "0                  COO  1.30\n",
      "1            CClCCC=OF  2.40\n",
      "2  c1ccc([Se](=O)O)cc1  3.22\n",
      "3                 CCCC  3.64\n"
     ]
    }
   ],
   "source": [
    "import pandas as pd\n",
    "\n",
    "d = {'SMILES': ['COO','CClCCC=OF', 'c1ccc([Se](=O)O)cc1', 'CCCC'], 'y': [1.3, 2.4,3.22, 3.64]}\n",
    "\n",
    "df = pd.DataFrame(data=d)\n",
    "\n",
    "print(df)"
   ]
  },
  {
   "cell_type": "markdown",
   "id": "armed-romania",
   "metadata": {},
   "source": [
    "Iterate through elements in SMILES columns and create a list called incorrect_indx that will contain those indx with incorrect SMILES. "
   ]
  },
  {
   "cell_type": "code",
   "execution_count": null,
   "id": "extreme-score",
   "metadata": {},
   "outputs": [],
   "source": [
    "# WRITE YOUR CODE HERE\n"
   ]
  },
  {
   "cell_type": "markdown",
   "id": "celtic-conditioning",
   "metadata": {},
   "source": [
    "After that, use this list to drop these indexes from the dataframe. Donnot forget to reset your index. You resulting dataframe should be:"
   ]
  },
  {
   "cell_type": "code",
   "execution_count": null,
   "id": "remarkable-effect",
   "metadata": {},
   "outputs": [],
   "source": [
    "#                SMILES     y\n",
    "#0                  COO  1.30\n",
    "#1  c1ccc([Se](=O)O)cc1  3.22\n",
    "#2                 CCCC  3.64"
   ]
  },
  {
   "cell_type": "markdown",
   "id": "protected-responsibility",
   "metadata": {},
   "source": [
    "# PART 2 .- OBTAINING INFORMATION ABOUT OUR ATOMS AND BONDS"
   ]
  },
  {
   "cell_type": "markdown",
   "id": "surprising-simulation",
   "metadata": {},
   "source": [
    "From the mol object we can obtain a lot of information. We can visualize the molecule:"
   ]
  },
  {
   "cell_type": "code",
   "execution_count": 6,
   "id": "opposed-filename",
   "metadata": {
    "tags": []
   },
   "outputs": [
    {
     "data": {
      "image/png": "[encoded data removed]",
      "text/plain": [
       "<rdkit.Chem.rdchem.Mol at 0x20f9ec5f280>"
      ]
     },
     "execution_count": 6,
     "metadata": {},
     "output_type": "execute_result"
    }
   ],
   "source": [
    "from rdkit import Chem\n",
    "\n",
    "# declare our molecules in SMILES format\n",
    "smi = 'C(Cl)CCC=O'\n",
    "\n",
    "# instantiate \"mol\" object\n",
    "mol = Chem.MolFromSmiles(smi)\n",
    "\n",
    "# and we can visualize our molecule\n",
    "mol"
   ]
  },
  {
   "cell_type": "markdown",
   "id": "civil-bryan",
   "metadata": {},
   "source": [
    "Sometimes, numbering the atom/bonds of our molecule can be useful:"
   ]
  },
  {
   "cell_type": "code",
   "execution_count": 7,
   "id": "prostate-atlas",
   "metadata": {},
   "outputs": [
    {
     "data": {
      "image/svg+xml": [
       "<svg xmlns=\"http://www.w3.org/2000/svg\" xmlns:rdkit=\"http://www.rdkit.org/xml\" xmlns:xlink=\"http://www.w3.org/1999/xlink\" version=\"1.1\" baseProfile=\"full\" xml:space=\"preserve\" width=\"350px\" height=\"300px\" viewBox=\"0 0 350 300\">\n",
       "<!-- END OF HEADER -->\n",
       "<rect style=\"opacity:1.0;fill:#FFFFFF;stroke:none\" width=\"350\" height=\"300\" x=\"0\" y=\"0\"> </rect>\n",
       "<path class=\"bond-0\" d=\"M 257.688,130.54 L 282.02,142.987\" style=\"fill:none;fill-rule:evenodd;stroke:#000000;stroke-width:2.0px;stroke-linecap:butt;stroke-linejoin:miter;stroke-opacity:1\"/>\n",
       "<path class=\"bond-0\" d=\"M 282.02,142.987 L 306.352,155.434\" style=\"fill:none;fill-rule:evenodd;stroke:#00CC00;stroke-width:2.0px;stroke-linecap:butt;stroke-linejoin:miter;stroke-opacity:1\"/>\n",
       "<path class=\"bond-1\" d=\"M 257.688,130.54 L 203.651,165.51\" style=\"fill:none;fill-rule:evenodd;stroke:#000000;stroke-width:2.0px;stroke-linecap:butt;stroke-linejoin:miter;stroke-opacity:1\"/>\n",
       "<path class=\"bond-2\" d=\"M 203.651,165.51 L 146.349,136.198\" style=\"fill:none;fill-rule:evenodd;stroke:#000000;stroke-width:2.0px;stroke-linecap:butt;stroke-linejoin:miter;stroke-opacity:1\"/>\n",
       "<path class=\"bond-3\" d=\"M 146.349,136.198 L 92.3124,171.167\" style=\"fill:none;fill-rule:evenodd;stroke:#000000;stroke-width:2.0px;stroke-linecap:butt;stroke-linejoin:miter;stroke-opacity:1\"/>\n",
       "<path class=\"bond-4\" d=\"M 95.2437,165.437 L 71.5806,153.332\" style=\"fill:none;fill-rule:evenodd;stroke:#000000;stroke-width:2.0px;stroke-linecap:butt;stroke-linejoin:miter;stroke-opacity:1\"/>\n",
       "<path class=\"bond-4\" d=\"M 71.5806,153.332 L 47.9176,141.228\" style=\"fill:none;fill-rule:evenodd;stroke:#FF0000;stroke-width:2.0px;stroke-linecap:butt;stroke-linejoin:miter;stroke-opacity:1\"/>\n",
       "<path class=\"bond-4\" d=\"M 89.3812,176.897 L 65.7182,164.793\" style=\"fill:none;fill-rule:evenodd;stroke:#000000;stroke-width:2.0px;stroke-linecap:butt;stroke-linejoin:miter;stroke-opacity:1\"/>\n",
       "<path class=\"bond-4\" d=\"M 65.7182,164.793 L 42.0552,152.689\" style=\"fill:none;fill-rule:evenodd;stroke:#FF0000;stroke-width:2.0px;stroke-linecap:butt;stroke-linejoin:miter;stroke-opacity:1\"/>\n",
       "<path class=\"atom-1\" d=\"M 307.961 160.483 Q 307.961 155.952, 310.073 153.583 Q 312.21 151.189, 316.252 151.189 Q 320.01 151.189, 322.019 153.841 L 320.319 155.231 Q 318.852 153.3, 316.252 153.3 Q 313.497 153.3, 312.029 155.154 Q 310.588 156.982, 310.588 160.483 Q 310.588 164.088, 312.081 165.941 Q 313.6 167.795, 316.535 167.795 Q 318.543 167.795, 320.886 166.585 L 321.607 168.516 Q 320.654 169.134, 319.212 169.494 Q 317.771 169.855, 316.174 169.855 Q 312.21 169.855, 310.073 167.435 Q 307.961 165.015, 307.961 160.483 \" fill=\"#00CC00\"/>\n",
       "<path class=\"atom-1\" d=\"M 324.233 150.082 L 326.601 150.082 L 326.601 169.623 L 324.233 169.623 L 324.233 150.082 \" fill=\"#00CC00\"/>\n",
       "<path class=\"atom-5\" d=\"M 26.6426 141.906 Q 26.6426 137.53, 28.8052 135.084 Q 30.9678 132.638, 35.0099 132.638 Q 39.052 132.638, 41.2147 135.084 Q 43.3773 137.53, 43.3773 141.906 Q 43.3773 146.335, 41.1889 148.858 Q 39.0005 151.355, 35.0099 151.355 Q 30.9936 151.355, 28.8052 148.858 Q 26.6426 146.36, 26.6426 141.906 M 35.0099 149.295 Q 37.7905 149.295, 39.2837 147.442 Q 40.8027 145.562, 40.8027 141.906 Q 40.8027 138.328, 39.2837 136.526 Q 37.7905 134.698, 35.0099 134.698 Q 32.2294 134.698, 30.7104 136.5 Q 29.2171 138.302, 29.2171 141.906 Q 29.2171 145.588, 30.7104 147.442 Q 32.2294 149.295, 35.0099 149.295 \" fill=\"#FF0000\"/>\n",
       "<path class=\"note\" d=\"M 257.143 124.538 Q 255.47 124.538, 254.633 123.303 Q 253.809 122.067, 253.809 119.865 Q 253.809 117.664, 254.633 116.441 Q 255.457 115.218, 257.143 115.218 Q 258.83 115.218, 259.653 116.441 Q 260.477 117.664, 260.477 119.865 Q 260.477 122.067, 259.641 123.303 Q 258.817 124.538, 257.143 124.538 M 257.143 123.509 Q 258.134 123.509, 258.662 122.595 Q 259.19 121.668, 259.19 119.865 Q 259.19 118.076, 258.662 117.162 Q 258.134 116.248, 257.143 116.248 Q 256.165 116.248, 255.624 117.162 Q 255.096 118.076, 255.096 119.865 Q 255.096 121.668, 255.624 122.595 Q 256.165 123.509, 257.143 123.509 \" fill=\"#000000\"/>\n",
       "<path class=\"note\" d=\"M 331.845 173.176 L 333.84 173.176 L 333.84 166.366 L 331.639 167.049 L 331.343 166.289 L 334.136 165.041 L 335.05 165.195 L 335.05 173.176 L 336.839 173.176 L 336.839 174.206 L 331.845 174.206 L 331.845 173.176 \" fill=\"#000000\"/>\n",
       "<path class=\"note\" d=\"M 201.151 173.443 Q 201.486 172.58, 202.284 172.104 Q 203.082 171.615, 204.189 171.615 Q 205.567 171.615, 206.339 172.362 Q 207.111 173.108, 207.111 174.434 Q 207.111 175.786, 206.107 177.047 Q 205.116 178.309, 203.056 179.802 L 207.266 179.802 L 207.266 180.832 L 201.125 180.832 L 201.125 179.969 Q 202.825 178.759, 203.829 177.858 Q 204.846 176.957, 205.335 176.146 Q 205.824 175.335, 205.824 174.498 Q 205.824 173.623, 205.386 173.134 Q 204.949 172.645, 204.189 172.645 Q 203.455 172.645, 202.966 172.941 Q 202.477 173.237, 202.13 173.893 L 201.151 173.443 \" fill=\"#000000\"/>\n",
       "<path class=\"note\" d=\"M 147.117 125.291 Q 148.006 125.548, 148.43 126.128 Q 148.868 126.694, 148.868 127.595 Q 148.868 128.368, 148.482 128.973 Q 148.096 129.565, 147.388 129.9 Q 146.68 130.221, 145.753 130.221 Q 144.775 130.221, 144.041 129.887 Q 143.32 129.539, 142.741 128.844 L 143.474 128.097 Q 144.041 128.715, 144.517 128.96 Q 144.993 129.192, 145.753 129.192 Q 146.577 129.192, 147.079 128.754 Q 147.581 128.303, 147.581 127.582 Q 147.581 126.656, 147.053 126.244 Q 146.538 125.819, 145.418 125.819 L 144.762 125.819 L 144.762 124.892 L 145.341 124.892 Q 146.332 124.879, 146.86 124.454 Q 147.388 124.017, 147.388 123.206 Q 147.388 122.613, 146.95 122.266 Q 146.512 121.905, 145.766 121.905 Q 145.006 121.905, 144.53 122.176 Q 144.067 122.446, 143.706 123.128 L 142.818 122.652 Q 143.14 121.893, 143.912 121.391 Q 144.684 120.876, 145.766 120.876 Q 147.105 120.876, 147.89 121.506 Q 148.675 122.137, 148.675 123.206 Q 148.675 123.939, 148.276 124.467 Q 147.877 124.995, 147.117 125.291 \" fill=\"#000000\"/>\n",
       "<path class=\"note\" d=\"M 100.554 181.602 L 101.649 181.602 L 101.649 182.632 L 100.554 182.632 L 100.554 184.73 L 99.3443 184.73 L 99.3443 182.632 L 94.6328 182.632 L 94.6328 181.821 L 98.6234 175.616 L 100.554 175.616 L 100.554 181.602 M 96.1261 181.602 L 99.3443 181.602 L 99.3443 176.44 L 96.1261 181.602 \" fill=\"#000000\"/>\n",
       "<path class=\"note\" d=\"M 16.1344 130.939 Q 16.9325 130.939, 17.589 131.286 Q 18.2455 131.621, 18.6188 132.264 Q 18.9921 132.895, 18.9921 133.758 Q 18.9921 134.697, 18.5287 135.38 Q 18.0782 136.049, 17.3315 136.397 Q 16.5849 136.744, 15.7353 136.744 Q 14.8986 136.744, 14.1262 136.435 Q 13.3538 136.126, 12.826 135.534 L 13.5984 134.736 Q 14.0232 135.199, 14.6025 135.457 Q 15.1818 135.702, 15.7739 135.702 Q 16.5849 135.702, 17.1385 135.199 Q 17.7049 134.697, 17.7049 133.783 Q 17.7049 132.818, 17.1385 132.367 Q 16.5849 131.904, 15.6967 131.904 Q 14.8986 131.904, 14.0103 132.252 L 13.3023 131.917 L 13.74 127.527 L 18.4257 127.527 L 18.297 128.557 L 14.7956 128.557 L 14.5253 131.26 Q 15.3362 130.939, 16.1344 130.939 \" fill=\"#000000\"/>\n",
       "</svg>"
      ],
      "text/plain": [
       "<IPython.core.display.SVG object>"
      ]
     },
     "execution_count": 7,
     "metadata": {},
     "output_type": "execute_result"
    }
   ],
   "source": [
    "from rdkit.Chem import Draw\n",
    "from rdkit.Chem.Draw import rdMolDraw2D\n",
    "import numpy as np\n",
    "from IPython.display import SVG\n",
    "\n",
    "# We draw our molecule with numbered atoms:\n",
    "d2d = rdMolDraw2D.MolDraw2DSVG(350,300)\n",
    "d2d.drawOptions().addAtomIndices=True\n",
    "d2d.DrawMolecule(mol)\n",
    "d2d.FinishDrawing()\n",
    "SVG(d2d.GetDrawingText())"
   ]
  },
  {
   "cell_type": "markdown",
   "id": "golden-bosnia",
   "metadata": {},
   "source": [
    "We can identify every atom of our molecule, by iteration"
   ]
  },
  {
   "cell_type": "code",
   "execution_count": null,
   "id": "theoretical-swift",
   "metadata": {},
   "outputs": [],
   "source": [
    "for idx_atom, atom in enumerate(mol.GetAtoms()):\n",
    "    print('atom {}: {}'.format(idx_atom, atom.GetSymbol()))"
   ]
  },
  {
   "cell_type": "code",
   "execution_count": 8,
   "id": "referenced-employer",
   "metadata": {},
   "outputs": [
    {
     "data": {
      "image/svg+xml": [
       "<svg xmlns=\"http://www.w3.org/2000/svg\" xmlns:rdkit=\"http://www.rdkit.org/xml\" xmlns:xlink=\"http://www.w3.org/1999/xlink\" version=\"1.1\" baseProfile=\"full\" xml:space=\"preserve\" width=\"350px\" height=\"300px\" viewBox=\"0 0 350 300\">\n",
       "<!-- END OF HEADER -->\n",
       "<rect style=\"opacity:1.0;fill:#FFFFFF;stroke:none\" width=\"350\" height=\"300\" x=\"0\" y=\"0\"> </rect>\n",
       "<path class=\"bond-0\" d=\"M 260.99,128.453 L 286.801,141.656\" style=\"fill:none;fill-rule:evenodd;stroke:#000000;stroke-width:2.0px;stroke-linecap:butt;stroke-linejoin:miter;stroke-opacity:1\"/>\n",
       "<path class=\"bond-0\" d=\"M 286.801,141.656 L 312.612,154.859\" style=\"fill:none;fill-rule:evenodd;stroke:#00CC00;stroke-width:2.0px;stroke-linecap:butt;stroke-linejoin:miter;stroke-opacity:1\"/>\n",
       "<path class=\"bond-1\" d=\"M 260.99,128.453 L 203.671,165.546\" style=\"fill:none;fill-rule:evenodd;stroke:#000000;stroke-width:2.0px;stroke-linecap:butt;stroke-linejoin:miter;stroke-opacity:1\"/>\n",
       "<path class=\"bond-2\" d=\"M 203.671,165.546 L 142.888,134.454\" style=\"fill:none;fill-rule:evenodd;stroke:#000000;stroke-width:2.0px;stroke-linecap:butt;stroke-linejoin:miter;stroke-opacity:1\"/>\n",
       "<path class=\"bond-3\" d=\"M 142.888,134.454 L 85.5685,171.547\" style=\"fill:none;fill-rule:evenodd;stroke:#000000;stroke-width:2.0px;stroke-linecap:butt;stroke-linejoin:miter;stroke-opacity:1\"/>\n",
       "<path class=\"bond-4\" d=\"M 88.6778,165.469 L 63.5772,152.629\" style=\"fill:none;fill-rule:evenodd;stroke:#000000;stroke-width:2.0px;stroke-linecap:butt;stroke-linejoin:miter;stroke-opacity:1\"/>\n",
       "<path class=\"bond-4\" d=\"M 63.5772,152.629 L 38.4767,139.789\" style=\"fill:none;fill-rule:evenodd;stroke:#FF0000;stroke-width:2.0px;stroke-linecap:butt;stroke-linejoin:miter;stroke-opacity:1\"/>\n",
       "<path class=\"bond-4\" d=\"M 82.4592,177.626 L 57.3587,164.786\" style=\"fill:none;fill-rule:evenodd;stroke:#000000;stroke-width:2.0px;stroke-linecap:butt;stroke-linejoin:miter;stroke-opacity:1\"/>\n",
       "<path class=\"bond-4\" d=\"M 57.3587,164.786 L 32.2581,151.946\" style=\"fill:none;fill-rule:evenodd;stroke:#FF0000;stroke-width:2.0px;stroke-linecap:butt;stroke-linejoin:miter;stroke-opacity:1\"/>\n",
       "<path class=\"atom-1\" d=\"M 314.319 160.215 Q 314.319 155.408, 316.558 152.896 Q 318.825 150.356, 323.112 150.356 Q 327.1 150.356, 329.23 153.169 L 327.427 154.643 Q 325.871 152.595, 323.112 152.595 Q 320.19 152.595, 318.634 154.561 Q 317.104 156.5, 317.104 160.215 Q 317.104 164.038, 318.688 166.004 Q 320.299 167.971, 323.413 167.971 Q 325.543 167.971, 328.028 166.687 L 328.793 168.735 Q 327.782 169.391, 326.253 169.773 Q 324.724 170.155, 323.03 170.155 Q 318.825 170.155, 316.558 167.588 Q 314.319 165.021, 314.319 160.215 \" fill=\"#00CC00\"/>\n",
       "<path class=\"atom-1\" d=\"M 331.578 149.181 L 334.091 149.181 L 334.091 169.91 L 331.578 169.91 L 331.578 149.181 \" fill=\"#00CC00\"/>\n",
       "<path class=\"atom-5\" d=\"M 15.9091 140.509 Q 15.9091 135.866, 18.2031 133.272 Q 20.4971 130.678, 24.7848 130.678 Q 29.0724 130.678, 31.3665 133.272 Q 33.6605 135.866, 33.6605 140.509 Q 33.6605 145.206, 31.3392 147.883 Q 29.0178 150.532, 24.7848 150.532 Q 20.5245 150.532, 18.2031 147.883 Q 15.9091 145.234, 15.9091 140.509 M 24.7848 148.347 Q 27.7343 148.347, 29.3182 146.381 Q 30.9295 144.387, 30.9295 140.509 Q 30.9295 136.713, 29.3182 134.801 Q 27.7343 132.862, 24.7848 132.862 Q 21.8353 132.862, 20.224 134.774 Q 18.6401 136.686, 18.6401 140.509 Q 18.6401 144.414, 20.224 146.381 Q 21.8353 148.347, 24.7848 148.347 \" fill=\"#FF0000\"/>\n",
       "<path class=\"note\" d=\"M 285.164 161.154 Q 283.389 161.154, 282.501 159.843 Q 281.627 158.532, 281.627 156.197 Q 281.627 153.862, 282.501 152.565 Q 283.375 151.267, 285.164 151.267 Q 286.953 151.267, 287.826 152.565 Q 288.7 153.862, 288.7 156.197 Q 288.7 158.532, 287.813 159.843 Q 286.939 161.154, 285.164 161.154 M 285.164 160.061 Q 286.215 160.061, 286.775 159.092 Q 287.335 158.108, 287.335 156.197 Q 287.335 154.299, 286.775 153.329 Q 286.215 152.36, 285.164 152.36 Q 284.126 152.36, 283.552 153.329 Q 282.993 154.299, 282.993 156.197 Q 282.993 158.108, 283.552 159.092 Q 284.126 160.061, 285.164 160.061 \" fill=\"#000000\"/>\n",
       "<path class=\"note\" d=\"M 222.529 139.304 L 224.646 139.304 L 224.646 132.081 L 222.311 132.805 L 221.997 131.999 L 224.96 130.675 L 225.929 130.838 L 225.929 139.304 L 227.827 139.304 L 227.827 140.397 L 222.529 140.397 L 222.529 139.304 \" fill=\"#000000\"/>\n",
       "<path class=\"note\" d=\"M 176.269 134.894 Q 176.624 133.979, 177.47 133.474 Q 178.317 132.955, 179.491 132.955 Q 180.952 132.955, 181.772 133.747 Q 182.591 134.539, 182.591 135.945 Q 182.591 137.379, 181.526 138.717 Q 180.474 140.055, 178.29 141.639 L 182.755 141.639 L 182.755 142.732 L 176.241 142.732 L 176.241 141.817 Q 178.044 140.533, 179.109 139.577 Q 180.188 138.622, 180.707 137.761 Q 181.225 136.901, 181.225 136.013 Q 181.225 135.085, 180.761 134.566 Q 180.297 134.047, 179.491 134.047 Q 178.713 134.047, 178.194 134.361 Q 177.675 134.675, 177.306 135.372 L 176.269 134.894 \" fill=\"#000000\"/>\n",
       "<path class=\"note\" d=\"M 108.202 141.332 Q 109.144 141.605, 109.595 142.219 Q 110.059 142.82, 110.059 143.776 Q 110.059 144.595, 109.65 145.237 Q 109.24 145.865, 108.489 146.22 Q 107.738 146.562, 106.755 146.562 Q 105.717 146.562, 104.939 146.207 Q 104.174 145.838, 103.559 145.101 L 104.338 144.309 Q 104.939 144.964, 105.444 145.223 Q 105.949 145.469, 106.755 145.469 Q 107.629 145.469, 108.161 145.005 Q 108.694 144.527, 108.694 143.762 Q 108.694 142.779, 108.134 142.342 Q 107.588 141.892, 106.4 141.892 L 105.703 141.892 L 105.703 140.909 L 106.318 140.909 Q 107.369 140.895, 107.929 140.444 Q 108.489 139.98, 108.489 139.12 Q 108.489 138.492, 108.025 138.123 Q 107.56 137.741, 106.768 137.741 Q 105.963 137.741, 105.457 138.027 Q 104.966 138.314, 104.584 139.038 L 103.641 138.533 Q 103.983 137.727, 104.802 137.194 Q 105.621 136.648, 106.768 136.648 Q 108.188 136.648, 109.021 137.317 Q 109.854 137.986, 109.854 139.12 Q 109.854 139.898, 109.431 140.458 Q 109.008 141.018, 108.202 141.332 \" fill=\"#000000\"/>\n",
       "<path class=\"note\" d=\"M 67.0648 139.282 L 68.2255 139.282 L 68.2255 140.374 L 67.0648 140.374 L 67.0648 142.6 L 65.7813 142.6 L 65.7813 140.374 L 60.7836 140.374 L 60.7836 139.514 L 65.0166 132.932 L 67.0648 132.932 L 67.0648 139.282 M 62.3675 139.282 L 65.7813 139.282 L 65.7813 133.806 L 62.3675 139.282 \" fill=\"#000000\"/>\n",
       "</svg>"
      ],
      "text/plain": [
       "<IPython.core.display.SVG object>"
      ]
     },
     "execution_count": 8,
     "metadata": {},
     "output_type": "execute_result"
    }
   ],
   "source": [
    "# Or we can number bonds:\n",
    "d2d = rdMolDraw2D.MolDraw2DSVG(350,300)\n",
    "d2d.drawOptions().addBondIndices=True\n",
    "d2d.DrawMolecule(mol)\n",
    "d2d.FinishDrawing()\n",
    "SVG(d2d.GetDrawingText())"
   ]
  },
  {
   "cell_type": "markdown",
   "id": "czech-edmonton",
   "metadata": {},
   "source": [
    "And identify the bond type"
   ]
  },
  {
   "cell_type": "code",
   "execution_count": null,
   "id": "dressed-nerve",
   "metadata": {},
   "outputs": [],
   "source": [
    "for idx_bond, bond in enumerate(mol.GetBonds()):\n",
    "    print('bond {}: {}'.format(idx_bond, bond.GetBondType()))"
   ]
  },
  {
   "cell_type": "markdown",
   "id": "adjusted-satellite",
   "metadata": {},
   "source": [
    "All that can be useful to filter non-allowed molecules. For instance, we will only allow molecules that contain 'C' and 'O'. Note that will stop when it finds the first \"non-allowed\" atom."
   ]
  },
  {
   "cell_type": "code",
   "execution_count": 9,
   "id": "controlled-digest",
   "metadata": {},
   "outputs": [
    {
     "name": "stdout",
     "output_type": "stream",
     "text": [
      "Molecule with Cl not allowed\n"
     ]
    }
   ],
   "source": [
    "allowed_atoms = ['C','O']\n",
    "\n",
    "correct = True\n",
    "for idx_atom, atom in enumerate(mol.GetAtoms()):\n",
    "    if atom.GetSymbol() not in allowed_atoms:\n",
    "        correct = False\n",
    "        print('Molecule with {} not allowed'.format(atom.GetSymbol()))\n",
    "        break\n",
    "\n",
    "if correct == True:\n",
    "    print('Your molecule is OK')"
   ]
  },
  {
   "cell_type": "markdown",
   "id": "chief-tattoo",
   "metadata": {},
   "source": [
    "## PART 2 TASK 1 .- Use rdkit to enumerate atoms and bonds"
   ]
  },
  {
   "cell_type": "markdown",
   "id": "broke-cream",
   "metadata": {},
   "source": [
    "In the code below, enumerate and identify all the atoms and bonds of molecule \"CCOC(=O)CC(SP(=S)(OC)OC)C(=O)OCC\""
   ]
  },
  {
   "cell_type": "code",
   "execution_count": null,
   "id": "romantic-summer",
   "metadata": {},
   "outputs": [],
   "source": [
    "# WRITE YOUR CODE HERE"
   ]
  },
  {
   "cell_type": "markdown",
   "id": "included-commonwealth",
   "metadata": {},
   "source": [
    "## PART 2 TASK 2 .- Eliminate molecules that contain invalid atoms"
   ]
  },
  {
   "cell_type": "markdown",
   "id": "subject-extension",
   "metadata": {},
   "source": [
    "As before, imagine that you have a pandas dataframe with different molecules:"
   ]
  },
  {
   "cell_type": "code",
   "execution_count": 24,
   "id": "grave-academy",
   "metadata": {},
   "outputs": [
    {
     "name": "stdout",
     "output_type": "stream",
     "text": [
      "                SMILES     y\n",
      "0                  COO  1.30\n",
      "1  c1ccc([Se](=O)O)cc1  3.22\n",
      "2                 CCCC  3.64\n"
     ]
    }
   ],
   "source": [
    "d2 = {'SMILES': ['COO','c1ccc([Se](=O)O)cc1', 'CCCC'], 'y': [1.3, 3.22, 3.64]}\n",
    "\n",
    "df2 = pd.DataFrame(data=d2)\n",
    "\n",
    "print(df2)"
   ]
  },
  {
   "cell_type": "markdown",
   "id": "enormous-lotus",
   "metadata": {},
   "source": [
    "Iterate through elements in SMILES columns and create a list called non_allowed_indx that will contain those indx with SMILES that contain non allowed atoms. We will allow H, N, C, O, P, S, Si, P, F, Cl, Br and I."
   ]
  },
  {
   "cell_type": "code",
   "execution_count": 25,
   "id": "precious-halifax",
   "metadata": {},
   "outputs": [],
   "source": [
    "# WRITE YOUR CODE HERE"
   ]
  },
  {
   "cell_type": "markdown",
   "id": "solved-consequence",
   "metadata": {},
   "source": [
    "After that, use this list to drop these indexes from the dataframe. Donnot forget to reset your index. You resulting dataframe should be:"
   ]
  },
  {
   "cell_type": "code",
   "execution_count": null,
   "id": "genetic-romance",
   "metadata": {},
   "outputs": [],
   "source": [
    "#                SMILES     y\n",
    "#0                  COO  1.30\n",
    "#1                 CCCC  3.64"
   ]
  },
  {
   "cell_type": "markdown",
   "id": "periodic-oasis",
   "metadata": {},
   "source": [
    "# FINAL SCRIPT"
   ]
  },
  {
   "cell_type": "markdown",
   "id": "loose-martin",
   "metadata": {},
   "source": [
    "Download the dataframe from https://github.com/evaserranocandelas/course called \"pers_sed-preprocessed.csv\". Create an script to eliminate incorrect SMILES and molecules with non-allowed atoms. We will only allow: H, N, C, O, P, S, Si, P, F, Cl, Br and I."
   ]
  },
  {
   "cell_type": "code",
   "execution_count": null,
   "id": "operating-combine",
   "metadata": {},
   "outputs": [],
   "source": [
    "# WRITE YOUR CODE HERE"
   ]
  }
 ],
 "metadata": {
  "kernelspec": {
   "display_name": "Python 3",
   "language": "python",
   "name": "python3"
  },
  "language_info": {
   "codemirror_mode": {
    "name": "ipython",
    "version": 3
   },
   "file_extension": ".py",
   "mimetype": "text/x-python",
   "name": "python",
   "nbconvert_exporter": "python",
   "pygments_lexer": "ipython3",
   "version": "3.9.2"
  }
 },
 "nbformat": 4,
 "nbformat_minor": 5
}
