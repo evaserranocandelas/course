{
 "cells": [
  {
   "cell_type": "markdown",
   "id": "freelance-steam",
   "metadata": {},
   "source": [
    "We are going to use rdkit to clean a dataframe that contain non-allowed molecules."
   ]
  },
  {
   "cell_type": "markdown",
   "id": "manufactured-virginia",
   "metadata": {},
   "source": [
    "First of all, we will \"play\" with rdkit in order to learn how to manage molecules"
   ]
  },
  {
   "cell_type": "code",
   "execution_count": 1,
   "id": "aquatic-disabled",
   "metadata": {},
   "outputs": [],
   "source": [
    "# PART 1 .- MOLECULES SANITIZATION"
   ]
  },
  {
   "cell_type": "markdown",
   "id": "auburn-exhibition",
   "metadata": {},
   "source": [
    "We first have to verify if our input molecules in SMILES format are correct. This step is sometimes called \"sanitization\". "
   ]
  },
  {
   "cell_type": "markdown",
   "id": "viral-intermediate",
   "metadata": {},
   "source": [
    "For instance, we can check if the SMILES 'C(Cl)CCC=O' represents a correct molecule. We will convert to mol object and re-convert to smiles. This two steps (From Smiles to Mol and from Mol to Smiles) have different arguments that can be useful depending on our interests (http://rdkit.org/docs/source/rdkit.Chem.rdmolfiles.html) "
   ]
  },
  {
   "cell_type": "code",
   "execution_count": 2,
   "id": "allied-mongolia",
   "metadata": {},
   "outputs": [
    {
     "name": "stdout",
     "output_type": "stream",
     "text": [
      "SMILES C(Cl)CCC=O is correct and has been sanitized to O=CCCCCl\n"
     ]
    }
   ],
   "source": [
    "from rdkit import Chem\n",
    "\n",
    "# declare our molecules in SMILES format\n",
    "smi = 'C(Cl)CCC=O'\n",
    "\n",
    "# instantiate \"mol\" object\n",
    "mol = Chem.MolFromSmiles(smi)\n",
    "\n",
    "# re-obtain the SMILES\n",
    "smi_sanitized = Chem.MolToSmiles(mol)\n",
    "\n",
    "print('SMILES {} is correct and has been sanitized to {}'.format(smi, smi_sanitized))"
   ]
  },
  {
   "cell_type": "markdown",
   "id": "loved-applicant",
   "metadata": {},
   "source": [
    "If the mol object can not be instantiated, we will not be able to return any sanitized smiles. If you run the next cell, it will raise an error. "
   ]
  },
  {
   "cell_type": "code",
   "execution_count": 3,
   "id": "devoted-lending",
   "metadata": {},
   "outputs": [
    {
     "ename": "ArgumentError",
     "evalue": "Python argument types in\n    rdkit.Chem.rdmolfiles.MolToSmiles(NoneType)\ndid not match C++ signature:\n    MolToSmiles(class RDKit::ROMol mol, bool isomericSmiles=True, bool kekuleSmiles=False, int rootedAtAtom=-1, bool canonical=True, bool allBondsExplicit=False, bool allHsExplicit=False, bool doRandom=False)",
     "output_type": "error",
     "traceback": [
      "\u001b[1;31m---------------------------------------------------------------------------\u001b[0m",
      "\u001b[1;31mArgumentError\u001b[0m                             Traceback (most recent call last)",
      "\u001b[1;32m<ipython-input-3-a88d21f4e714>\u001b[0m in \u001b[0;36m<module>\u001b[1;34m\u001b[0m\n\u001b[0;32m      5\u001b[0m \u001b[0mmol2\u001b[0m \u001b[1;33m=\u001b[0m \u001b[0mChem\u001b[0m\u001b[1;33m.\u001b[0m\u001b[0mMolFromSmiles\u001b[0m\u001b[1;33m(\u001b[0m\u001b[0msmi2\u001b[0m\u001b[1;33m)\u001b[0m\u001b[1;33m\u001b[0m\u001b[1;33m\u001b[0m\u001b[0m\n\u001b[0;32m      6\u001b[0m \u001b[1;33m\u001b[0m\u001b[0m\n\u001b[1;32m----> 7\u001b[1;33m \u001b[0msmi2_sanitized\u001b[0m \u001b[1;33m=\u001b[0m \u001b[0mChem\u001b[0m\u001b[1;33m.\u001b[0m\u001b[0mMolToSmiles\u001b[0m\u001b[1;33m(\u001b[0m\u001b[0mmol2\u001b[0m\u001b[1;33m)\u001b[0m\u001b[1;33m\u001b[0m\u001b[1;33m\u001b[0m\u001b[0m\n\u001b[0m",
      "\u001b[1;31mArgumentError\u001b[0m: Python argument types in\n    rdkit.Chem.rdmolfiles.MolToSmiles(NoneType)\ndid not match C++ signature:\n    MolToSmiles(class RDKit::ROMol mol, bool isomericSmiles=True, bool kekuleSmiles=False, int rootedAtAtom=-1, bool canonical=True, bool allBondsExplicit=False, bool allHsExplicit=False, bool doRandom=False)"
     ]
    }
   ],
   "source": [
    "# declare our molecules in SMILES format\n",
    "smi2 = 'CClCCC=OF'\n",
    "\n",
    "# instantiate \"mol\" object\n",
    "mol2 = Chem.MolFromSmiles(smi2)\n",
    "\n",
    "smi2_sanitized = Chem.MolToSmiles(mol2)"
   ]
  },
  {
   "cell_type": "markdown",
   "id": "dying-litigation",
   "metadata": {},
   "source": [
    "We can add a try/except expression in order to bypass the error and return \"None\" instead"
   ]
  },
  {
   "cell_type": "code",
   "execution_count": 4,
   "id": "tired-shopping",
   "metadata": {},
   "outputs": [
    {
     "name": "stdout",
     "output_type": "stream",
     "text": [
      "None\n"
     ]
    }
   ],
   "source": [
    "# declare our molecules in SMILES format\n",
    "smi2 = 'CClCCC=OF'\n",
    "\n",
    "\n",
    "# instantiate \"mol\" object\n",
    "mol2 = Chem.MolFromSmiles(smi2)\n",
    "try:\n",
    "    sanitized_smi2 = Chem.MolToSmiles(Chem.MolFromSmiles(smi2))\n",
    "except:\n",
    "    sanitized_smi2 = None\n",
    "print(sanitized_smi2)"
   ]
  },
  {
   "cell_type": "markdown",
   "id": "mature-diagnosis",
   "metadata": {},
   "source": [
    "## TASK 1 PART 1 .- Use rdkit to exclude incorrect molecules from a dataframe"
   ]
  },
  {
   "cell_type": "markdown",
   "id": "upset-arctic",
   "metadata": {},
   "source": [
    "Imagine that you have a pandas dataframe like the following"
   ]
  },
  {
   "cell_type": "code",
   "execution_count": 23,
   "id": "powerful-petersburg",
   "metadata": {},
   "outputs": [
    {
     "name": "stdout",
     "output_type": "stream",
     "text": [
      "                SMILES     y\n",
      "0                  COO  1.30\n",
      "1            CClCCC=OF  2.40\n",
      "2  c1ccc([Se](=O)O)cc1  3.22\n",
      "3                 CCCC  3.64\n"
     ]
    }
   ],
   "source": [
    "import pandas as pd\n",
    "\n",
    "d = {'SMILES': ['COO','CClCCC=OF', 'c1ccc([Se](=O)O)cc1', 'CCCC'], 'y': [1.3, 2.4,3.22, 3.64]}\n",
    "\n",
    "df = pd.DataFrame(data=d)\n",
    "\n",
    "print(df)"
   ]
  },
  {
   "cell_type": "markdown",
   "id": "vocal-berry",
   "metadata": {},
   "source": [
    "Iterate through elements in SMILES columns and create a list called incorrect_indx that will contain those indx with incorrect SMILES. "
   ]
  },
  {
   "cell_type": "code",
   "execution_count": null,
   "id": "willing-wrapping",
   "metadata": {},
   "outputs": [],
   "source": [
    "# WRITE YOUR CODE HERE\n"
   ]
  },
  {
   "cell_type": "markdown",
   "id": "interpreted-pursuit",
   "metadata": {},
   "source": [
    "After that, use this list to drop these indexes from the dataframe. Donnot forget to reset your index. You resulting dataframe should be:"
   ]
  },
  {
   "cell_type": "code",
   "execution_count": null,
   "id": "micro-disco",
   "metadata": {},
   "outputs": [],
   "source": [
    "#                SMILES     y\n",
    "#0                  COO  1.30\n",
    "#1  c1ccc([Se](=O)O)cc1  3.22\n",
    "#2                 CCCC  3.64"
   ]
  },
  {
   "cell_type": "markdown",
   "id": "otherwise-league",
   "metadata": {},
   "source": [
    "# PART 2 .- OBTAINING INFORMATION ABOUT OUR ATOMS AND BONDS"
   ]
  },
  {
   "cell_type": "markdown",
   "id": "healthy-helmet",
   "metadata": {},
   "source": [
    "From the mol object we can obtain a lot of information. We can visualize the molecule:"
   ]
  },
  {
   "cell_type": "code",
   "execution_count": 13,
   "id": "studied-contest",
   "metadata": {
    "tags": []
   },
   "outputs": [
    {
     "data": {
      "image/png": "[encoded data removed]",
      "text/plain": [
       "<rdkit.Chem.rdchem.Mol at 0x238841f6be0>"
      ]
     },
     "execution_count": 13,
     "metadata": {},
     "output_type": "execute_result"
    }
   ],
   "source": [
    "from rdkit import Chem\n",
    "\n",
    "# declare our molecules in SMILES format\n",
    "smi = 'C(Cl)CCC=O'\n",
    "\n",
    "# instantiate \"mol\" object\n",
    "mol = Chem.MolFromSmiles(smi)\n",
    "\n",
    "# and we can visualize our molecule\n",
    "mol"
   ]
  },
  {
   "cell_type": "markdown",
   "id": "pregnant-finland",
   "metadata": {},
   "source": [
    "Sometimes, numbering the atom/bonds of our molecule can be useful:"
   ]
  },
  {
   "cell_type": "code",
   "execution_count": 18,
   "id": "virtual-darwin",
   "metadata": {},
   "outputs": [
    {
     "data": {
      "image/svg+xml": [
       "<svg xmlns=\"http://www.w3.org/2000/svg\" xmlns:rdkit=\"http://www.rdkit.org/xml\" xmlns:xlink=\"http://www.w3.org/1999/xlink\" version=\"1.1\" baseProfile=\"full\" xml:space=\"preserve\" width=\"350px\" height=\"300px\" viewBox=\"0 0 350 300\">\n",
       "<!-- END OF HEADER -->\n",
       "<rect style=\"opacity:1.0;fill:#FFFFFF;stroke:none\" width=\"350\" height=\"300\" x=\"0\" y=\"0\"> </rect>\n",
       "<path class=\"bond-0\" d=\"M 265.965,133.921 L 287.041,144.702\" style=\"fill:none;fill-rule:evenodd;stroke:#000000;stroke-width:2.0px;stroke-linecap:butt;stroke-linejoin:miter;stroke-opacity:1\"/>\n",
       "<path class=\"bond-0\" d=\"M 287.041,144.702 L 308.117,155.483\" style=\"fill:none;fill-rule:evenodd;stroke:#00CC00;stroke-width:2.0px;stroke-linecap:butt;stroke-linejoin:miter;stroke-opacity:1\"/>\n",
       "<path class=\"bond-1\" d=\"M 249.41,135.043 L 211.154,159.801\" style=\"fill:none;fill-rule:evenodd;stroke:#000000;stroke-width:2.0px;stroke-linecap:butt;stroke-linejoin:miter;stroke-opacity:1\"/>\n",
       "<path class=\"bond-2\" d=\"M 195.902,160.692 L 153.868,139.19\" style=\"fill:none;fill-rule:evenodd;stroke:#000000;stroke-width:2.0px;stroke-linecap:butt;stroke-linejoin:miter;stroke-opacity:1\"/>\n",
       "<path class=\"bond-3\" d=\"M 138.612,140.351 L 100.707,164.881\" style=\"fill:none;fill-rule:evenodd;stroke:#000000;stroke-width:2.0px;stroke-linecap:butt;stroke-linejoin:miter;stroke-opacity:1\"/>\n",
       "<path class=\"bond-4\" d=\"M 86.6188,160.171 L 66.0465,149.648\" style=\"fill:none;fill-rule:evenodd;stroke:#000000;stroke-width:2.0px;stroke-linecap:butt;stroke-linejoin:miter;stroke-opacity:1\"/>\n",
       "<path class=\"bond-4\" d=\"M 66.0465,149.648 L 45.4742,139.124\" style=\"fill:none;fill-rule:evenodd;stroke:#FF0000;stroke-width:2.0px;stroke-linecap:butt;stroke-linejoin:miter;stroke-opacity:1\"/>\n",
       "<path class=\"bond-4\" d=\"M 80.7564,171.632 L 60.1841,161.108\" style=\"fill:none;fill-rule:evenodd;stroke:#000000;stroke-width:2.0px;stroke-linecap:butt;stroke-linejoin:miter;stroke-opacity:1\"/>\n",
       "<path class=\"bond-4\" d=\"M 60.1841,161.108 L 39.6117,150.585\" style=\"fill:none;fill-rule:evenodd;stroke:#FF0000;stroke-width:2.0px;stroke-linecap:butt;stroke-linejoin:miter;stroke-opacity:1\"/>\n",
       "<path class=\"atom-0\" d=\"M 257.688 139.11 Q 254.341 139.11, 252.667 136.638 Q 251.019 134.166, 251.019 129.764 Q 251.019 125.361, 252.667 122.916 Q 254.315 120.47, 257.688 120.47 Q 261.06 120.47, 262.708 122.916 Q 264.356 125.361, 264.356 129.764 Q 264.356 134.166, 262.682 136.638 Q 261.035 139.11, 257.688 139.11 M 257.688 137.05 Q 259.67 137.05, 260.726 135.222 Q 261.781 133.368, 261.781 129.764 Q 261.781 126.185, 260.726 124.357 Q 259.67 122.529, 257.688 122.529 Q 255.731 122.529, 254.65 124.357 Q 253.594 126.185, 253.594 129.764 Q 253.594 133.368, 254.65 135.222 Q 255.731 137.05, 257.688 137.05 \" fill=\"#000000\"/>\n",
       "<path class=\"atom-1\" d=\"M 310.497 166.105 L 314.488 166.105 L 314.488 152.485 L 310.086 153.85 L 309.493 152.331 L 315.08 149.833 L 316.908 150.142 L 316.908 166.105 L 320.487 166.105 L 320.487 168.164 L 310.497 168.164 L 310.497 166.105 \" fill=\"#00CC00\"/>\n",
       "<path class=\"atom-2\" d=\"M 197.562 159.095 Q 198.232 157.37, 199.828 156.417 Q 201.424 155.439, 203.638 155.439 Q 206.393 155.439, 207.938 156.932 Q 209.483 158.426, 209.483 161.077 Q 209.483 163.781, 207.475 166.304 Q 205.492 168.827, 201.373 171.813 L 209.792 171.813 L 209.792 173.873 L 197.511 173.873 L 197.511 172.148 Q 200.909 169.728, 202.918 167.926 Q 204.951 166.124, 205.93 164.502 Q 206.908 162.88, 206.908 161.206 Q 206.908 159.455, 206.033 158.477 Q 205.157 157.499, 203.638 157.499 Q 202.171 157.499, 201.193 158.091 Q 200.214 158.683, 199.519 159.996 L 197.562 159.095 \" fill=\"#000000\"/>\n",
       "<path class=\"atom-3\" d=\"M 148.975 134.958 Q 150.751 135.473, 151.601 136.631 Q 152.476 137.764, 152.476 139.566 Q 152.476 141.111, 151.704 142.321 Q 150.931 143.505, 149.515 144.175 Q 148.099 144.818, 146.246 144.818 Q 144.289 144.818, 142.822 144.149 Q 141.38 143.454, 140.221 142.064 L 141.689 140.57 Q 142.822 141.806, 143.774 142.295 Q 144.727 142.759, 146.246 142.759 Q 147.893 142.759, 148.898 141.883 Q 149.902 140.982, 149.902 139.54 Q 149.902 137.687, 148.846 136.863 Q 147.816 136.013, 145.576 136.013 L 144.263 136.013 L 144.263 134.16 L 145.422 134.16 Q 147.404 134.134, 148.46 133.284 Q 149.515 132.409, 149.515 130.787 Q 149.515 129.603, 148.64 128.907 Q 147.765 128.187, 146.272 128.187 Q 144.753 128.187, 143.8 128.727 Q 142.873 129.268, 142.152 130.632 L 140.376 129.68 Q 141.019 128.161, 142.564 127.157 Q 144.109 126.127, 146.272 126.127 Q 148.949 126.127, 150.52 127.388 Q 152.09 128.65, 152.09 130.787 Q 152.09 132.254, 151.292 133.31 Q 150.494 134.366, 148.975 134.958 \" fill=\"#000000\"/>\n",
       "<path class=\"atom-4\" d=\"M 97.1398 173.171 L 99.3282 173.171 L 99.3282 175.231 L 97.1398 175.231 L 97.1398 179.427 L 94.7197 179.427 L 94.7197 175.231 L 85.2967 175.231 L 85.2967 173.609 L 93.2779 161.199 L 97.1398 161.199 L 97.1398 173.171 M 88.2832 173.171 L 94.7197 173.171 L 94.7197 162.847 L 88.2832 173.171 \" fill=\"#000000\"/>\n",
       "<path class=\"atom-5\" d=\"M 35.4605 138.71 Q 37.0567 138.71, 38.3698 139.405 Q 39.6828 140.074, 40.4294 141.362 Q 41.176 142.623, 41.176 144.348 Q 41.176 146.228, 40.2492 147.592 Q 39.3481 148.931, 37.8548 149.626 Q 36.3616 150.321, 34.6624 150.321 Q 32.9889 150.321, 31.4441 149.703 Q 29.8994 149.085, 28.8438 147.901 L 30.3886 146.305 Q 31.2382 147.232, 32.3967 147.747 Q 33.5553 148.236, 34.7396 148.236 Q 36.3616 148.236, 37.4687 147.232 Q 38.6015 146.228, 38.6015 144.4 Q 38.6015 142.469, 37.4687 141.568 Q 36.3616 140.641, 34.5851 140.641 Q 32.9889 140.641, 31.2124 141.336 L 29.7964 140.666 L 30.6718 131.887 L 40.0432 131.887 L 39.7858 133.947 L 32.7829 133.947 L 32.2423 139.353 Q 33.8642 138.71, 35.4605 138.71 \" fill=\"#FF0000\"/>\n",
       "<path class=\"note\" d=\"M 256.599 112.971 Q 254.925 112.971, 254.089 111.735 Q 253.265 110.499, 253.265 108.298 Q 253.265 106.097, 254.089 104.874 Q 254.912 103.651, 256.599 103.651 Q 258.285 103.651, 259.109 104.874 Q 259.933 106.097, 259.933 108.298 Q 259.933 110.499, 259.096 111.735 Q 258.272 112.971, 256.599 112.971 M 256.599 111.941 Q 257.59 111.941, 258.118 111.027 Q 258.646 110.1, 258.646 108.298 Q 258.646 106.509, 258.118 105.595 Q 257.59 104.681, 256.599 104.681 Q 255.62 104.681, 255.08 105.595 Q 254.552 106.509, 254.552 108.298 Q 254.552 110.1, 255.08 111.027 Q 255.62 111.941, 256.599 111.941 \" fill=\"#000000\"/>\n",
       "<path class=\"note\" d=\"M 331.845 172.322 L 333.84 172.322 L 333.84 165.513 L 331.639 166.195 L 331.343 165.435 L 334.136 164.187 L 335.05 164.341 L 335.05 172.322 L 336.839 172.322 L 336.839 173.352 L 331.845 173.352 L 331.845 172.322 \" fill=\"#000000\"/>\n",
       "<path class=\"note\" d=\"M 201.696 183.303 Q 202.03 182.44, 202.828 181.964 Q 203.626 181.475, 204.734 181.475 Q 206.111 181.475, 206.883 182.221 Q 207.656 182.968, 207.656 184.294 Q 207.656 185.646, 206.652 186.907 Q 205.66 188.169, 203.601 189.662 L 207.81 189.662 L 207.81 190.692 L 201.67 190.692 L 201.67 189.829 Q 203.369 188.619, 204.373 187.718 Q 205.39 186.817, 205.879 186.006 Q 206.368 185.195, 206.368 184.358 Q 206.368 183.483, 205.931 182.994 Q 205.493 182.505, 204.734 182.505 Q 204 182.505, 203.511 182.801 Q 203.021 183.097, 202.674 183.753 L 201.696 183.303 \" fill=\"#000000\"/>\n",
       "<path class=\"note\" d=\"M 146.573 113.724 Q 147.461 113.981, 147.886 114.56 Q 148.324 115.127, 148.324 116.028 Q 148.324 116.8, 147.938 117.405 Q 147.551 117.997, 146.843 118.332 Q 146.135 118.654, 145.209 118.654 Q 144.23 118.654, 143.496 118.319 Q 142.776 117.972, 142.196 117.277 L 142.93 116.53 Q 143.496 117.148, 143.973 117.392 Q 144.449 117.624, 145.209 117.624 Q 146.032 117.624, 146.534 117.186 Q 147.036 116.736, 147.036 116.015 Q 147.036 115.088, 146.509 114.676 Q 145.994 114.251, 144.874 114.251 L 144.217 114.251 L 144.217 113.325 L 144.797 113.325 Q 145.788 113.312, 146.316 112.887 Q 146.843 112.449, 146.843 111.638 Q 146.843 111.046, 146.406 110.699 Q 145.968 110.338, 145.221 110.338 Q 144.462 110.338, 143.986 110.608 Q 143.522 110.879, 143.162 111.561 L 142.273 111.085 Q 142.595 110.325, 143.368 109.823 Q 144.14 109.308, 145.221 109.308 Q 146.56 109.308, 147.345 109.939 Q 148.131 110.57, 148.131 111.638 Q 148.131 112.372, 147.732 112.9 Q 147.333 113.428, 146.573 113.724 \" fill=\"#000000\"/>\n",
       "<path class=\"note\" d=\"M 95.8148 193.169 L 96.909 193.169 L 96.909 194.199 L 95.8148 194.199 L 95.8148 196.297 L 94.6048 196.297 L 94.6048 194.199 L 89.8933 194.199 L 89.8933 193.388 L 93.8839 187.183 L 95.8148 187.183 L 95.8148 193.169 M 91.3866 193.169 L 94.6048 193.169 L 94.6048 188.007 L 91.3866 193.169 \" fill=\"#000000\"/>\n",
       "<path class=\"note\" d=\"M 16.1344 130.085 Q 16.9325 130.085, 17.589 130.432 Q 18.2455 130.767, 18.6188 131.411 Q 18.9921 132.041, 18.9921 132.904 Q 18.9921 133.844, 18.5287 134.526 Q 18.0782 135.195, 17.3315 135.543 Q 16.5849 135.89, 15.7353 135.89 Q 14.8986 135.89, 14.1262 135.582 Q 13.3538 135.273, 12.826 134.68 L 13.5984 133.882 Q 14.0232 134.346, 14.6025 134.603 Q 15.1818 134.848, 15.7739 134.848 Q 16.5849 134.848, 17.1385 134.346 Q 17.7049 133.844, 17.7049 132.93 Q 17.7049 131.964, 17.1385 131.514 Q 16.5849 131.05, 15.6967 131.05 Q 14.8986 131.05, 14.0103 131.398 L 13.3023 131.063 L 13.74 126.673 L 18.4257 126.673 L 18.297 127.703 L 14.7956 127.703 L 14.5253 130.407 Q 15.3362 130.085, 16.1344 130.085 \" fill=\"#000000\"/>\n",
       "</svg>"
      ],
      "text/plain": [
       "<IPython.core.display.SVG object>"
      ]
     },
     "execution_count": 18,
     "metadata": {},
     "output_type": "execute_result"
    }
   ],
   "source": [
    "from rdkit.Chem import Draw\n",
    "from rdkit.Chem.Draw import rdMolDraw2D\n",
    "import numpy as np\n",
    "from IPython.display import SVG\n",
    "\n",
    "# We draw our molecule with numbered atoms:\n",
    "d2d = rdMolDraw2D.MolDraw2DSVG(350,300)\n",
    "d2d.drawOptions().addAtomIndices=True\n",
    "d2d.DrawMolecule(mol)\n",
    "d2d.FinishDrawing()\n",
    "SVG(d2d.GetDrawingText())"
   ]
  },
  {
   "cell_type": "markdown",
   "id": "mature-birmingham",
   "metadata": {},
   "source": [
    "If this method raises \"Bad conformed ID\" error, you can use the alternative:"
   ]
  },
  {
   "cell_type": "code",
   "execution_count": 19,
   "id": "diagnostic-flower",
   "metadata": {},
   "outputs": [
    {
     "data": {
      "image/png": "[encoded data removed]",
      "text/plain": [
       "<rdkit.Chem.rdchem.Mol at 0x238841f6be0>"
      ]
     },
     "execution_count": 19,
     "metadata": {},
     "output_type": "execute_result"
    }
   ],
   "source": [
    "for at in mol.GetAtoms():\n",
    "    lbl = '%s'%(at.GetIdx())\n",
    "    at.SetProp('atomLabel',lbl)\n",
    "    \n",
    "mol"
   ]
  },
  {
   "cell_type": "markdown",
   "id": "automotive-reading",
   "metadata": {},
   "source": [
    "We can identify every atom of our molecule, by iteration"
   ]
  },
  {
   "cell_type": "code",
   "execution_count": null,
   "id": "divine-highland",
   "metadata": {},
   "outputs": [],
   "source": [
    "for idx_atom, atom in enumerate(mol.GetAtoms()):\n",
    "    print('atom {}: {}'.format(idx_atom, atom.GetSymbol()))"
   ]
  },
  {
   "cell_type": "code",
   "execution_count": 8,
   "id": "phantom-couple",
   "metadata": {},
   "outputs": [
    {
     "data": {
      "image/svg+xml": [
       "<svg xmlns=\"http://www.w3.org/2000/svg\" xmlns:rdkit=\"http://www.rdkit.org/xml\" xmlns:xlink=\"http://www.w3.org/1999/xlink\" version=\"1.1\" baseProfile=\"full\" xml:space=\"preserve\" width=\"350px\" height=\"300px\" viewBox=\"0 0 350 300\">\n",
       "<!-- END OF HEADER -->\n",
       "<rect style=\"opacity:1.0;fill:#FFFFFF;stroke:none\" width=\"350\" height=\"300\" x=\"0\" y=\"0\"> </rect>\n",
       "<path class=\"bond-0\" d=\"M 260.99,128.453 L 286.801,141.656\" style=\"fill:none;fill-rule:evenodd;stroke:#000000;stroke-width:2.0px;stroke-linecap:butt;stroke-linejoin:miter;stroke-opacity:1\"/>\n",
       "<path class=\"bond-0\" d=\"M 286.801,141.656 L 312.612,154.859\" style=\"fill:none;fill-rule:evenodd;stroke:#00CC00;stroke-width:2.0px;stroke-linecap:butt;stroke-linejoin:miter;stroke-opacity:1\"/>\n",
       "<path class=\"bond-1\" d=\"M 260.99,128.453 L 203.671,165.546\" style=\"fill:none;fill-rule:evenodd;stroke:#000000;stroke-width:2.0px;stroke-linecap:butt;stroke-linejoin:miter;stroke-opacity:1\"/>\n",
       "<path class=\"bond-2\" d=\"M 203.671,165.546 L 142.888,134.454\" style=\"fill:none;fill-rule:evenodd;stroke:#000000;stroke-width:2.0px;stroke-linecap:butt;stroke-linejoin:miter;stroke-opacity:1\"/>\n",
       "<path class=\"bond-3\" d=\"M 142.888,134.454 L 85.5685,171.547\" style=\"fill:none;fill-rule:evenodd;stroke:#000000;stroke-width:2.0px;stroke-linecap:butt;stroke-linejoin:miter;stroke-opacity:1\"/>\n",
       "<path class=\"bond-4\" d=\"M 88.6778,165.469 L 63.5772,152.629\" style=\"fill:none;fill-rule:evenodd;stroke:#000000;stroke-width:2.0px;stroke-linecap:butt;stroke-linejoin:miter;stroke-opacity:1\"/>\n",
       "<path class=\"bond-4\" d=\"M 63.5772,152.629 L 38.4767,139.789\" style=\"fill:none;fill-rule:evenodd;stroke:#FF0000;stroke-width:2.0px;stroke-linecap:butt;stroke-linejoin:miter;stroke-opacity:1\"/>\n",
       "<path class=\"bond-4\" d=\"M 82.4592,177.626 L 57.3587,164.786\" style=\"fill:none;fill-rule:evenodd;stroke:#000000;stroke-width:2.0px;stroke-linecap:butt;stroke-linejoin:miter;stroke-opacity:1\"/>\n",
       "<path class=\"bond-4\" d=\"M 57.3587,164.786 L 32.2581,151.946\" style=\"fill:none;fill-rule:evenodd;stroke:#FF0000;stroke-width:2.0px;stroke-linecap:butt;stroke-linejoin:miter;stroke-opacity:1\"/>\n",
       "<path class=\"atom-1\" d=\"M 314.319 160.215 Q 314.319 155.408, 316.558 152.896 Q 318.825 150.356, 323.112 150.356 Q 327.1 150.356, 329.23 153.169 L 327.427 154.643 Q 325.871 152.595, 323.112 152.595 Q 320.19 152.595, 318.634 154.561 Q 317.104 156.5, 317.104 160.215 Q 317.104 164.038, 318.688 166.004 Q 320.299 167.971, 323.413 167.971 Q 325.543 167.971, 328.028 166.687 L 328.793 168.735 Q 327.782 169.391, 326.253 169.773 Q 324.724 170.155, 323.03 170.155 Q 318.825 170.155, 316.558 167.588 Q 314.319 165.021, 314.319 160.215 \" fill=\"#00CC00\"/>\n",
       "<path class=\"atom-1\" d=\"M 331.578 149.181 L 334.091 149.181 L 334.091 169.91 L 331.578 169.91 L 331.578 149.181 \" fill=\"#00CC00\"/>\n",
       "<path class=\"atom-5\" d=\"M 15.9091 140.509 Q 15.9091 135.866, 18.2031 133.272 Q 20.4971 130.678, 24.7848 130.678 Q 29.0724 130.678, 31.3665 133.272 Q 33.6605 135.866, 33.6605 140.509 Q 33.6605 145.206, 31.3392 147.883 Q 29.0178 150.532, 24.7848 150.532 Q 20.5245 150.532, 18.2031 147.883 Q 15.9091 145.234, 15.9091 140.509 M 24.7848 148.347 Q 27.7343 148.347, 29.3182 146.381 Q 30.9295 144.387, 30.9295 140.509 Q 30.9295 136.713, 29.3182 134.801 Q 27.7343 132.862, 24.7848 132.862 Q 21.8353 132.862, 20.224 134.774 Q 18.6401 136.686, 18.6401 140.509 Q 18.6401 144.414, 20.224 146.381 Q 21.8353 148.347, 24.7848 148.347 \" fill=\"#FF0000\"/>\n",
       "<path class=\"note\" d=\"M 285.164 161.154 Q 283.389 161.154, 282.501 159.843 Q 281.627 158.532, 281.627 156.197 Q 281.627 153.862, 282.501 152.565 Q 283.375 151.267, 285.164 151.267 Q 286.953 151.267, 287.826 152.565 Q 288.7 153.862, 288.7 156.197 Q 288.7 158.532, 287.813 159.843 Q 286.939 161.154, 285.164 161.154 M 285.164 160.061 Q 286.215 160.061, 286.775 159.092 Q 287.335 158.108, 287.335 156.197 Q 287.335 154.299, 286.775 153.329 Q 286.215 152.36, 285.164 152.36 Q 284.126 152.36, 283.552 153.329 Q 282.993 154.299, 282.993 156.197 Q 282.993 158.108, 283.552 159.092 Q 284.126 160.061, 285.164 160.061 \" fill=\"#000000\"/>\n",
       "<path class=\"note\" d=\"M 222.529 139.304 L 224.646 139.304 L 224.646 132.081 L 222.311 132.805 L 221.997 131.999 L 224.96 130.675 L 225.929 130.838 L 225.929 139.304 L 227.827 139.304 L 227.827 140.397 L 222.529 140.397 L 222.529 139.304 \" fill=\"#000000\"/>\n",
       "<path class=\"note\" d=\"M 176.269 134.894 Q 176.624 133.979, 177.47 133.474 Q 178.317 132.955, 179.491 132.955 Q 180.952 132.955, 181.772 133.747 Q 182.591 134.539, 182.591 135.945 Q 182.591 137.379, 181.526 138.717 Q 180.474 140.055, 178.29 141.639 L 182.755 141.639 L 182.755 142.732 L 176.241 142.732 L 176.241 141.817 Q 178.044 140.533, 179.109 139.577 Q 180.188 138.622, 180.707 137.761 Q 181.225 136.901, 181.225 136.013 Q 181.225 135.085, 180.761 134.566 Q 180.297 134.047, 179.491 134.047 Q 178.713 134.047, 178.194 134.361 Q 177.675 134.675, 177.306 135.372 L 176.269 134.894 \" fill=\"#000000\"/>\n",
       "<path class=\"note\" d=\"M 108.202 141.332 Q 109.144 141.605, 109.595 142.219 Q 110.059 142.82, 110.059 143.776 Q 110.059 144.595, 109.65 145.237 Q 109.24 145.865, 108.489 146.22 Q 107.738 146.562, 106.755 146.562 Q 105.717 146.562, 104.939 146.207 Q 104.174 145.838, 103.559 145.101 L 104.338 144.309 Q 104.939 144.964, 105.444 145.223 Q 105.949 145.469, 106.755 145.469 Q 107.629 145.469, 108.161 145.005 Q 108.694 144.527, 108.694 143.762 Q 108.694 142.779, 108.134 142.342 Q 107.588 141.892, 106.4 141.892 L 105.703 141.892 L 105.703 140.909 L 106.318 140.909 Q 107.369 140.895, 107.929 140.444 Q 108.489 139.98, 108.489 139.12 Q 108.489 138.492, 108.025 138.123 Q 107.56 137.741, 106.768 137.741 Q 105.963 137.741, 105.457 138.027 Q 104.966 138.314, 104.584 139.038 L 103.641 138.533 Q 103.983 137.727, 104.802 137.194 Q 105.621 136.648, 106.768 136.648 Q 108.188 136.648, 109.021 137.317 Q 109.854 137.986, 109.854 139.12 Q 109.854 139.898, 109.431 140.458 Q 109.008 141.018, 108.202 141.332 \" fill=\"#000000\"/>\n",
       "<path class=\"note\" d=\"M 67.0648 139.282 L 68.2255 139.282 L 68.2255 140.374 L 67.0648 140.374 L 67.0648 142.6 L 65.7813 142.6 L 65.7813 140.374 L 60.7836 140.374 L 60.7836 139.514 L 65.0166 132.932 L 67.0648 132.932 L 67.0648 139.282 M 62.3675 139.282 L 65.7813 139.282 L 65.7813 133.806 L 62.3675 139.282 \" fill=\"#000000\"/>\n",
       "</svg>"
      ],
      "text/plain": [
       "<IPython.core.display.SVG object>"
      ]
     },
     "execution_count": 8,
     "metadata": {},
     "output_type": "execute_result"
    }
   ],
   "source": [
    "# Or we can number bonds:\n",
    "d2d = rdMolDraw2D.MolDraw2DSVG(350,300)\n",
    "d2d.drawOptions().addBondIndices=True\n",
    "d2d.DrawMolecule(mol)\n",
    "d2d.FinishDrawing()\n",
    "SVG(d2d.GetDrawingText())"
   ]
  },
  {
   "cell_type": "markdown",
   "id": "rotary-africa",
   "metadata": {},
   "source": [
    "Again, this method raises the \"Bad conformer ID\" error sometimes. If this happens, you can use the alternative:"
   ]
  },
  {
   "cell_type": "code",
   "execution_count": 21,
   "id": "signal-medication",
   "metadata": {},
   "outputs": [
    {
     "data": {
      "image/png": "[encoded data removed]",
      "text/plain": [
       "<rdkit.Chem.rdchem.Mol at 0x238841f6be0>"
      ]
     },
     "execution_count": 21,
     "metadata": {},
     "output_type": "execute_result"
    }
   ],
   "source": [
    "for bond in mol.GetBonds():\n",
    "    lbl = '%s'%(bond.GetIdx())\n",
    "    bond.SetProp('bondNote',lbl)\n",
    "    \n",
    "mol"
   ]
  },
  {
   "cell_type": "markdown",
   "id": "emerging-southeast",
   "metadata": {},
   "source": [
    "And identify the bond type"
   ]
  },
  {
   "cell_type": "code",
   "execution_count": null,
   "id": "grave-relay",
   "metadata": {},
   "outputs": [],
   "source": [
    "for idx_bond, bond in enumerate(mol.GetBonds()):\n",
    "    print('bond {}: {}'.format(idx_bond, bond.GetBondType()))"
   ]
  },
  {
   "cell_type": "markdown",
   "id": "precious-blackberry",
   "metadata": {},
   "source": [
    "All that can be useful to filter non-allowed molecules. For instance, we will only allow molecules that contain 'C' and 'O'. Note that will stop when it finds the first \"non-allowed\" atom."
   ]
  },
  {
   "cell_type": "code",
   "execution_count": 9,
   "id": "secondary-minister",
   "metadata": {},
   "outputs": [
    {
     "name": "stdout",
     "output_type": "stream",
     "text": [
      "Molecule with Cl not allowed\n"
     ]
    }
   ],
   "source": [
    "allowed_atoms = ['C','O']\n",
    "\n",
    "correct = True\n",
    "for idx_atom, atom in enumerate(mol.GetAtoms()):\n",
    "    if atom.GetSymbol() not in allowed_atoms:\n",
    "        correct = False\n",
    "        print('Molecule with {} not allowed'.format(atom.GetSymbol()))\n",
    "        break\n",
    "\n",
    "if correct == True:\n",
    "    print('Your molecule is OK')"
   ]
  },
  {
   "cell_type": "markdown",
   "id": "herbal-finder",
   "metadata": {},
   "source": [
    "## PART 2 TASK 1 .- Use rdkit to enumerate atoms and bonds"
   ]
  },
  {
   "cell_type": "markdown",
   "id": "compressed-assist",
   "metadata": {},
   "source": [
    "In the code below, enumerate and identify all the atoms and bonds of molecule \"CCOC(=O)CC(SP(=S)(OC)OC)C(=O)OCC\""
   ]
  },
  {
   "cell_type": "code",
   "execution_count": null,
   "id": "hundred-inclusion",
   "metadata": {},
   "outputs": [],
   "source": [
    "# WRITE YOUR CODE HERE"
   ]
  },
  {
   "cell_type": "markdown",
   "id": "sunset-litigation",
   "metadata": {},
   "source": [
    "## PART 2 TASK 2 .- Eliminate molecules that contain invalid atoms"
   ]
  },
  {
   "cell_type": "markdown",
   "id": "athletic-rwanda",
   "metadata": {},
   "source": [
    "As before, imagine that you have a pandas dataframe with different molecules:"
   ]
  },
  {
   "cell_type": "code",
   "execution_count": 24,
   "id": "extreme-business",
   "metadata": {},
   "outputs": [
    {
     "name": "stdout",
     "output_type": "stream",
     "text": [
      "                SMILES     y\n",
      "0                  COO  1.30\n",
      "1  c1ccc([Se](=O)O)cc1  3.22\n",
      "2                 CCCC  3.64\n"
     ]
    }
   ],
   "source": [
    "d2 = {'SMILES': ['COO','c1ccc([Se](=O)O)cc1', 'CCCC'], 'y': [1.3, 3.22, 3.64]}\n",
    "\n",
    "df2 = pd.DataFrame(data=d2)\n",
    "\n",
    "print(df2)"
   ]
  },
  {
   "cell_type": "markdown",
   "id": "empirical-makeup",
   "metadata": {},
   "source": [
    "Iterate through elements in SMILES columns and create a list called non_allowed_indx that will contain those indx with SMILES that contain non allowed atoms. We will allow H, N, C, O, P, S, Si, P, F, Cl, Br and I."
   ]
  },
  {
   "cell_type": "code",
   "execution_count": 25,
   "id": "presidential-shock",
   "metadata": {},
   "outputs": [],
   "source": [
    "# WRITE YOUR CODE HERE"
   ]
  },
  {
   "cell_type": "markdown",
   "id": "welsh-register",
   "metadata": {},
   "source": [
    "After that, use this list to drop these indexes from the dataframe. Donnot forget to reset your index. You resulting dataframe should be:"
   ]
  },
  {
   "cell_type": "code",
   "execution_count": null,
   "id": "pregnant-deputy",
   "metadata": {},
   "outputs": [],
   "source": [
    "#                SMILES     y\n",
    "#0                  COO  1.30\n",
    "#1                 CCCC  3.64"
   ]
  },
  {
   "cell_type": "markdown",
   "id": "suspended-insert",
   "metadata": {},
   "source": [
    "# FINAL SCRIPT"
   ]
  },
  {
   "cell_type": "markdown",
   "id": "civic-reader",
   "metadata": {},
   "source": [
    "Download the dataframe from https://github.com/evaserranocandelas/course called \"pers_sed-preprocessed.csv\". Create an script to eliminate incorrect SMILES and molecules with non-allowed atoms. We will only allow: H, N, C, O, P, S, Si, P, F, Cl, Br and I."
   ]
  },
  {
   "cell_type": "code",
   "execution_count": null,
   "id": "periodic-gravity",
   "metadata": {},
   "outputs": [],
   "source": [
    "# WRITE YOUR CODE HERE"
   ]
  }
 ],
 "metadata": {
  "kernelspec": {
   "display_name": "Python 3",
   "language": "python",
   "name": "python3"
  },
  "language_info": {
   "codemirror_mode": {
    "name": "ipython",
    "version": 3
   },
   "file_extension": ".py",
   "mimetype": "text/x-python",
   "name": "python",
   "nbconvert_exporter": "python",
   "pygments_lexer": "ipython3",
   "version": "3.9.2"
  }
 },
 "nbformat": 4,
 "nbformat_minor": 5
}
